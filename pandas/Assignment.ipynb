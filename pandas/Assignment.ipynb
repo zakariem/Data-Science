{
 "cells": [
  {
   "cell_type": "code",
   "execution_count": 1,
   "id": "90d02720-7d58-44cf-addb-e5a5cf5f0c51",
   "metadata": {},
   "outputs": [],
   "source": [
    "import pandas as pd"
   ]
  },
  {
   "cell_type": "markdown",
   "id": "eaf401b2-0652-4630-a1a9-e13de65197bc",
   "metadata": {},
   "source": [
    "# 1. Warbixinta guud ee xogta"
   ]
  },
  {
   "cell_type": "code",
   "execution_count": 2,
   "id": "3466a882-cedf-4b83-b7f6-c00f5f8c122e",
   "metadata": {},
   "outputs": [
    {
     "data": {
      "text/html": [
       "<div>\n",
       "<style scoped>\n",
       "    .dataframe tbody tr th:only-of-type {\n",
       "        vertical-align: middle;\n",
       "    }\n",
       "\n",
       "    .dataframe tbody tr th {\n",
       "        vertical-align: top;\n",
       "    }\n",
       "\n",
       "    .dataframe thead th {\n",
       "        text-align: right;\n",
       "    }\n",
       "</style>\n",
       "<table border=\"1\" class=\"dataframe\">\n",
       "  <thead>\n",
       "    <tr style=\"text-align: right;\">\n",
       "      <th></th>\n",
       "      <th>Id</th>\n",
       "      <th>EmployeeName</th>\n",
       "      <th>JobTitle</th>\n",
       "      <th>BasePay</th>\n",
       "      <th>OvertimePay</th>\n",
       "      <th>OtherPay</th>\n",
       "      <th>Benefits</th>\n",
       "      <th>TotalPay</th>\n",
       "      <th>TotalPayBenefits</th>\n",
       "      <th>Year</th>\n",
       "      <th>Notes</th>\n",
       "      <th>Agency</th>\n",
       "      <th>Status</th>\n",
       "    </tr>\n",
       "  </thead>\n",
       "  <tbody>\n",
       "    <tr>\n",
       "      <th>0</th>\n",
       "      <td>1</td>\n",
       "      <td>NATHANIEL FORD</td>\n",
       "      <td>GENERAL MANAGER-METROPOLITAN TRANSIT AUTHORITY</td>\n",
       "      <td>167411.18</td>\n",
       "      <td>0.00</td>\n",
       "      <td>400184.25</td>\n",
       "      <td>NaN</td>\n",
       "      <td>567595.43</td>\n",
       "      <td>567595.43</td>\n",
       "      <td>2011</td>\n",
       "      <td>NaN</td>\n",
       "      <td>San Francisco</td>\n",
       "      <td>NaN</td>\n",
       "    </tr>\n",
       "    <tr>\n",
       "      <th>1</th>\n",
       "      <td>2</td>\n",
       "      <td>GARY JIMENEZ</td>\n",
       "      <td>CAPTAIN III (POLICE DEPARTMENT)</td>\n",
       "      <td>155966.02</td>\n",
       "      <td>245131.88</td>\n",
       "      <td>137811.38</td>\n",
       "      <td>NaN</td>\n",
       "      <td>538909.28</td>\n",
       "      <td>538909.28</td>\n",
       "      <td>2011</td>\n",
       "      <td>NaN</td>\n",
       "      <td>San Francisco</td>\n",
       "      <td>NaN</td>\n",
       "    </tr>\n",
       "    <tr>\n",
       "      <th>2</th>\n",
       "      <td>3</td>\n",
       "      <td>ALBERT PARDINI</td>\n",
       "      <td>CAPTAIN III (POLICE DEPARTMENT)</td>\n",
       "      <td>212739.13</td>\n",
       "      <td>106088.18</td>\n",
       "      <td>16452.60</td>\n",
       "      <td>NaN</td>\n",
       "      <td>335279.91</td>\n",
       "      <td>335279.91</td>\n",
       "      <td>2011</td>\n",
       "      <td>NaN</td>\n",
       "      <td>San Francisco</td>\n",
       "      <td>NaN</td>\n",
       "    </tr>\n",
       "    <tr>\n",
       "      <th>3</th>\n",
       "      <td>4</td>\n",
       "      <td>CHRISTOPHER CHONG</td>\n",
       "      <td>WIRE ROPE CABLE MAINTENANCE MECHANIC</td>\n",
       "      <td>77916.00</td>\n",
       "      <td>56120.71</td>\n",
       "      <td>198306.90</td>\n",
       "      <td>NaN</td>\n",
       "      <td>332343.61</td>\n",
       "      <td>332343.61</td>\n",
       "      <td>2011</td>\n",
       "      <td>NaN</td>\n",
       "      <td>San Francisco</td>\n",
       "      <td>NaN</td>\n",
       "    </tr>\n",
       "    <tr>\n",
       "      <th>4</th>\n",
       "      <td>5</td>\n",
       "      <td>PATRICK GARDNER</td>\n",
       "      <td>DEPUTY CHIEF OF DEPARTMENT,(FIRE DEPARTMENT)</td>\n",
       "      <td>134401.60</td>\n",
       "      <td>9737.00</td>\n",
       "      <td>182234.59</td>\n",
       "      <td>NaN</td>\n",
       "      <td>326373.19</td>\n",
       "      <td>326373.19</td>\n",
       "      <td>2011</td>\n",
       "      <td>NaN</td>\n",
       "      <td>San Francisco</td>\n",
       "      <td>NaN</td>\n",
       "    </tr>\n",
       "  </tbody>\n",
       "</table>\n",
       "</div>"
      ],
      "text/plain": [
       "   Id       EmployeeName                                        JobTitle  \\\n",
       "0   1     NATHANIEL FORD  GENERAL MANAGER-METROPOLITAN TRANSIT AUTHORITY   \n",
       "1   2       GARY JIMENEZ                 CAPTAIN III (POLICE DEPARTMENT)   \n",
       "2   3     ALBERT PARDINI                 CAPTAIN III (POLICE DEPARTMENT)   \n",
       "3   4  CHRISTOPHER CHONG            WIRE ROPE CABLE MAINTENANCE MECHANIC   \n",
       "4   5    PATRICK GARDNER    DEPUTY CHIEF OF DEPARTMENT,(FIRE DEPARTMENT)   \n",
       "\n",
       "     BasePay  OvertimePay   OtherPay  Benefits   TotalPay  TotalPayBenefits  \\\n",
       "0  167411.18         0.00  400184.25       NaN  567595.43         567595.43   \n",
       "1  155966.02    245131.88  137811.38       NaN  538909.28         538909.28   \n",
       "2  212739.13    106088.18   16452.60       NaN  335279.91         335279.91   \n",
       "3   77916.00     56120.71  198306.90       NaN  332343.61         332343.61   \n",
       "4  134401.60      9737.00  182234.59       NaN  326373.19         326373.19   \n",
       "\n",
       "   Year  Notes         Agency  Status  \n",
       "0  2011    NaN  San Francisco     NaN  \n",
       "1  2011    NaN  San Francisco     NaN  \n",
       "2  2011    NaN  San Francisco     NaN  \n",
       "3  2011    NaN  San Francisco     NaN  \n",
       "4  2011    NaN  San Francisco     NaN  "
      ]
     },
     "execution_count": 2,
     "metadata": {},
     "output_type": "execute_result"
    }
   ],
   "source": [
    "salary_data = pd.read_csv('Salaries.csv')\n",
    "salary_data.head()"
   ]
  },
  {
   "cell_type": "code",
   "execution_count": 3,
   "id": "22a05b25-8350-4dd3-8262-9704e4755a39",
   "metadata": {},
   "outputs": [
    {
     "name": "stdout",
     "output_type": "stream",
     "text": [
      "<class 'pandas.core.frame.DataFrame'>\n",
      "RangeIndex: 148654 entries, 0 to 148653\n",
      "Data columns (total 13 columns):\n",
      " #   Column            Non-Null Count   Dtype  \n",
      "---  ------            --------------   -----  \n",
      " 0   Id                148654 non-null  int64  \n",
      " 1   EmployeeName      148654 non-null  object \n",
      " 2   JobTitle          148654 non-null  object \n",
      " 3   BasePay           148045 non-null  float64\n",
      " 4   OvertimePay       148650 non-null  float64\n",
      " 5   OtherPay          148650 non-null  float64\n",
      " 6   Benefits          112491 non-null  float64\n",
      " 7   TotalPay          148654 non-null  float64\n",
      " 8   TotalPayBenefits  148654 non-null  float64\n",
      " 9   Year              148654 non-null  int64  \n",
      " 10  Notes             0 non-null       float64\n",
      " 11  Agency            148654 non-null  object \n",
      " 12  Status            0 non-null       float64\n",
      "dtypes: float64(8), int64(2), object(3)\n",
      "memory usage: 14.7+ MB\n"
     ]
    }
   ],
   "source": [
    "salary_data.info()"
   ]
  },
  {
   "cell_type": "markdown",
   "id": "d93690d3-959d-477e-9cf9-93abd5f9280c",
   "metadata": {},
   "source": [
    "# 2. Basic Analysis Questions"
   ]
  },
  {
   "cell_type": "markdown",
   "id": "25b19cc7-afab-4e1b-8e42-ec9675e08d6c",
   "metadata": {},
   "source": [
    "### 2.1. Identify the five most common `job titles`."
   ]
  },
  {
   "cell_type": "code",
   "execution_count": 4,
   "id": "f1f5f111-0744-47d7-936f-c7b9d666a2fc",
   "metadata": {},
   "outputs": [
    {
     "data": {
      "text/plain": [
       "JobTitle\n",
       "Transit Operator                7036\n",
       "Special Nurse                   4389\n",
       "Registered Nurse                3736\n",
       "Public Svc Aide-Public Works    2518\n",
       "Police Officer 3                2421\n",
       "Name: count, dtype: int64"
      ]
     },
     "execution_count": 4,
     "metadata": {},
     "output_type": "execute_result"
    }
   ],
   "source": [
    "salary_data['JobTitle'].value_counts().head(5)"
   ]
  },
  {
   "cell_type": "markdown",
   "id": "b072bca7-d718-46f6-bdfe-37f6a8f54020",
   "metadata": {},
   "source": [
    "### 2.2. Find the job titles with the highest and lowest average `BasePay`."
   ]
  },
  {
   "cell_type": "code",
   "execution_count": 5,
   "id": "9552dff2-2949-42cc-910f-fa3aa27931e2",
   "metadata": {},
   "outputs": [
    {
     "data": {
      "text/plain": [
       "JobTitle\n",
       "ACCOUNT CLERK                                     43300.806506\n",
       "ACCOUNTANT                                        46643.172000\n",
       "ACCOUNTANT INTERN                                 28732.663958\n",
       "ACPO,JuvP, Juv Prob (SFERS)                       62290.780000\n",
       "ACUPUNCTURIST                                     66374.400000\n",
       "                                                      ...     \n",
       "X-RAY LABORATORY AIDE                             47664.773077\n",
       "X-Ray Laboratory Aide                             46086.387100\n",
       "YOUTH COMMISSION ADVISOR, BOARD OF SUPERVISORS    52609.910000\n",
       "Youth Comm Advisor                                39077.957500\n",
       "ZOO CURATOR                                       43148.000000\n",
       "Name: BasePay, Length: 2159, dtype: float64"
      ]
     },
     "execution_count": 5,
     "metadata": {},
     "output_type": "execute_result"
    }
   ],
   "source": [
    "average_basepay = salary_data.groupby('JobTitle')['BasePay'].mean()\n",
    "average_basepay"
   ]
  },
  {
   "cell_type": "markdown",
   "id": "8e914f8b-2f70-4179-9afe-bf270a555b32",
   "metadata": {},
   "source": [
    "#### `The Job Title With The Highest Average BasePay`"
   ]
  },
  {
   "cell_type": "code",
   "execution_count": 6,
   "id": "2bc53c9c-6835-4e50-a4fe-c50356cfcebe",
   "metadata": {},
   "outputs": [
    {
     "name": "stdout",
     "output_type": "stream",
     "text": [
      "Chief of Police 309767.68333333335\n"
     ]
    }
   ],
   "source": [
    "print(f'{average_basepay.idxmax()} {average_basepay.max()}')"
   ]
  },
  {
   "cell_type": "markdown",
   "id": "bec194e3-4174-44f8-b578-b6349d9f0363",
   "metadata": {},
   "source": [
    "#### `The Job Title With The Lowest Average BasePay`"
   ]
  },
  {
   "cell_type": "code",
   "execution_count": 7,
   "id": "37a4f7f5-f1b0-4b56-910b-134fb7de9f2c",
   "metadata": {},
   "outputs": [
    {
     "name": "stdout",
     "output_type": "stream",
     "text": [
      "ASSISTANT RECREATION SUPERVISOR 0.0\n"
     ]
    }
   ],
   "source": [
    "print(f'{average_basepay.idxmin()} {average_basepay.min()}')"
   ]
  },
  {
   "cell_type": "markdown",
   "id": "97a2ff8c-edf4-4288-98b3-34bd72c65598",
   "metadata": {},
   "source": [
    "### 2.3. Describe the relationship between `BasePay` and `TotalPay`."
   ]
  },
  {
   "cell_type": "code",
   "execution_count": 8,
   "id": "49e82a01-62b5-4e39-ac48-41ac5f4cae3a",
   "metadata": {},
   "outputs": [
    {
     "data": {
      "text/html": [
       "<div>\n",
       "<style scoped>\n",
       "    .dataframe tbody tr th:only-of-type {\n",
       "        vertical-align: middle;\n",
       "    }\n",
       "\n",
       "    .dataframe tbody tr th {\n",
       "        vertical-align: top;\n",
       "    }\n",
       "\n",
       "    .dataframe thead th {\n",
       "        text-align: right;\n",
       "    }\n",
       "</style>\n",
       "<table border=\"1\" class=\"dataframe\">\n",
       "  <thead>\n",
       "    <tr style=\"text-align: right;\">\n",
       "      <th></th>\n",
       "      <th>BasePay</th>\n",
       "      <th>TotalPay</th>\n",
       "    </tr>\n",
       "  </thead>\n",
       "  <tbody>\n",
       "    <tr>\n",
       "      <th>BasePay</th>\n",
       "      <td>1.000000</td>\n",
       "      <td>0.954494</td>\n",
       "    </tr>\n",
       "    <tr>\n",
       "      <th>TotalPay</th>\n",
       "      <td>0.954494</td>\n",
       "      <td>1.000000</td>\n",
       "    </tr>\n",
       "  </tbody>\n",
       "</table>\n",
       "</div>"
      ],
      "text/plain": [
       "           BasePay  TotalPay\n",
       "BasePay   1.000000  0.954494\n",
       "TotalPay  0.954494  1.000000"
      ]
     },
     "execution_count": 8,
     "metadata": {},
     "output_type": "execute_result"
    }
   ],
   "source": [
    "salary_data[['BasePay', 'TotalPay']].corr()"
   ]
  },
  {
   "cell_type": "markdown",
   "id": "5ceb263e-e728-4883-9fcd-6efb8a17dc61",
   "metadata": {},
   "source": [
    "### 2.4. List three job titles with the highest `TotalPay` and three with the lowest."
   ]
  },
  {
   "cell_type": "code",
   "execution_count": 9,
   "id": "f47d6ab5-788f-4378-9f57-1b54ce08f49b",
   "metadata": {},
   "outputs": [
    {
     "name": "stdout",
     "output_type": "stream",
     "text": [
      ":\n",
      "\n",
      "Lowest TotalPay Jobs:\n",
      "\n"
     ]
    }
   ],
   "source": [
    "highest_totalpay_jobs = salary_data.nlargest(3, 'TotalPay')[['JobTitle', 'TotalPay']]\n",
    "lowest_totalpay_jobs = salary_data.nsmallest(3, 'TotalPay')[['JobTitle', 'TotalPay']]\n",
    "print(\":\\n\", )\n",
    "print(\"Lowest TotalPay Jobs:\\n\", )"
   ]
  },
  {
   "cell_type": "markdown",
   "id": "1c88a953-1bc9-4f17-8cb7-76e2405d2efe",
   "metadata": {},
   "source": [
    "### `Highest TotalPay Jobs are `"
   ]
  },
  {
   "cell_type": "code",
   "execution_count": 10,
   "id": "338919dc-5edf-4898-b55b-a05bee8aaeb3",
   "metadata": {},
   "outputs": [
    {
     "data": {
      "text/html": [
       "<div>\n",
       "<style scoped>\n",
       "    .dataframe tbody tr th:only-of-type {\n",
       "        vertical-align: middle;\n",
       "    }\n",
       "\n",
       "    .dataframe tbody tr th {\n",
       "        vertical-align: top;\n",
       "    }\n",
       "\n",
       "    .dataframe thead th {\n",
       "        text-align: right;\n",
       "    }\n",
       "</style>\n",
       "<table border=\"1\" class=\"dataframe\">\n",
       "  <thead>\n",
       "    <tr style=\"text-align: right;\">\n",
       "      <th></th>\n",
       "      <th>JobTitle</th>\n",
       "      <th>TotalPay</th>\n",
       "    </tr>\n",
       "  </thead>\n",
       "  <tbody>\n",
       "    <tr>\n",
       "      <th>0</th>\n",
       "      <td>GENERAL MANAGER-METROPOLITAN TRANSIT AUTHORITY</td>\n",
       "      <td>567595.43</td>\n",
       "    </tr>\n",
       "    <tr>\n",
       "      <th>1</th>\n",
       "      <td>CAPTAIN III (POLICE DEPARTMENT)</td>\n",
       "      <td>538909.28</td>\n",
       "    </tr>\n",
       "    <tr>\n",
       "      <th>110531</th>\n",
       "      <td>Deputy Chief 3</td>\n",
       "      <td>471952.64</td>\n",
       "    </tr>\n",
       "  </tbody>\n",
       "</table>\n",
       "</div>"
      ],
      "text/plain": [
       "                                              JobTitle   TotalPay\n",
       "0       GENERAL MANAGER-METROPOLITAN TRANSIT AUTHORITY  567595.43\n",
       "1                      CAPTAIN III (POLICE DEPARTMENT)  538909.28\n",
       "110531                                  Deputy Chief 3  471952.64"
      ]
     },
     "execution_count": 10,
     "metadata": {},
     "output_type": "execute_result"
    }
   ],
   "source": [
    "highest_totalpay_jobs"
   ]
  },
  {
   "cell_type": "markdown",
   "id": "c30ef9c0-0eea-481b-98f2-fd4dcbb213c3",
   "metadata": {},
   "source": [
    "### `Lowest TotalPay Jobs are `"
   ]
  },
  {
   "cell_type": "code",
   "execution_count": 11,
   "id": "69052739-e575-49b1-8984-777e44f1cadb",
   "metadata": {},
   "outputs": [
    {
     "data": {
      "text/html": [
       "<div>\n",
       "<style scoped>\n",
       "    .dataframe tbody tr th:only-of-type {\n",
       "        vertical-align: middle;\n",
       "    }\n",
       "\n",
       "    .dataframe tbody tr th {\n",
       "        vertical-align: top;\n",
       "    }\n",
       "\n",
       "    .dataframe thead th {\n",
       "        text-align: right;\n",
       "    }\n",
       "</style>\n",
       "<table border=\"1\" class=\"dataframe\">\n",
       "  <thead>\n",
       "    <tr style=\"text-align: right;\">\n",
       "      <th></th>\n",
       "      <th>JobTitle</th>\n",
       "      <th>TotalPay</th>\n",
       "    </tr>\n",
       "  </thead>\n",
       "  <tbody>\n",
       "    <tr>\n",
       "      <th>148653</th>\n",
       "      <td>Counselor, Log Cabin Ranch</td>\n",
       "      <td>-618.13</td>\n",
       "    </tr>\n",
       "    <tr>\n",
       "      <th>36156</th>\n",
       "      <td>STATIONARY ENGINEER, WATER TREATMENT PLANT</td>\n",
       "      <td>0.00</td>\n",
       "    </tr>\n",
       "    <tr>\n",
       "      <th>36157</th>\n",
       "      <td>TRANSIT OPERATOR</td>\n",
       "      <td>0.00</td>\n",
       "    </tr>\n",
       "  </tbody>\n",
       "</table>\n",
       "</div>"
      ],
      "text/plain": [
       "                                          JobTitle  TotalPay\n",
       "148653                  Counselor, Log Cabin Ranch   -618.13\n",
       "36156   STATIONARY ENGINEER, WATER TREATMENT PLANT      0.00\n",
       "36157                             TRANSIT OPERATOR      0.00"
      ]
     },
     "execution_count": 11,
     "metadata": {},
     "output_type": "execute_result"
    }
   ],
   "source": [
    "lowest_totalpay_jobs"
   ]
  },
  {
   "cell_type": "markdown",
   "id": "6491656b-6882-4e37-a082-a36b297c9c7f",
   "metadata": {},
   "source": [
    "### 2.5. Identify three job titles with the highest average `OvertimePay`."
   ]
  },
  {
   "cell_type": "code",
   "execution_count": 12,
   "id": "7ee11d79-18ec-424f-8b0e-4f652d63eb5b",
   "metadata": {},
   "outputs": [
    {
     "data": {
      "text/plain": [
       "JobTitle\n",
       "Wire Rope Cable Maint Sprv                82446.923333\n",
       "WIRE ROPE CABLE MAINTENANCE SUPERVISOR    66164.730000\n",
       "Trnst Power Line Wrk Sprv 2               59259.306667\n",
       "Name: OvertimePay, dtype: float64"
      ]
     },
     "execution_count": 12,
     "metadata": {},
     "output_type": "execute_result"
    }
   ],
   "source": [
    "avg_overtime_by_job = salary_data.groupby('JobTitle')['OvertimePay'].mean()\n",
    "avg_overtime_by_job.nlargest(3)"
   ]
  },
  {
   "cell_type": "markdown",
   "id": "16ba5c76-e50d-484a-8abb-12fc174f7e31",
   "metadata": {},
   "source": [
    "### 2.6. Investigate if all job titles have overtime pay entries. If not, provide examples."
   ]
  },
  {
   "cell_type": "code",
   "execution_count": 13,
   "id": "b2382064-80fa-4f16-8930-e5b8bb724fde",
   "metadata": {},
   "outputs": [
    {
     "data": {
      "text/plain": [
       "array(['CAPTAIN III (POLICE DEPARTMENT)',\n",
       "       'WIRE ROPE CABLE MAINTENANCE MECHANIC',\n",
       "       'DEPUTY CHIEF OF DEPARTMENT,(FIRE DEPARTMENT)', ...,\n",
       "       'Personnel Trainee', 'Apprentice Cement Mason I',\n",
       "       \"Sheriff's Property Keeper\"], dtype=object)"
      ]
     },
     "execution_count": 13,
     "metadata": {},
     "output_type": "execute_result"
    }
   ],
   "source": [
    "jobs_with_overtime = salary_data[salary_data['OvertimePay'] > 0]['JobTitle'].unique()\n",
    "jobs_with_overtime"
   ]
  },
  {
   "cell_type": "code",
   "execution_count": 14,
   "id": "53d30b34-9191-43d0-b77c-a9c68feb698b",
   "metadata": {},
   "outputs": [],
   "source": [
    "jobs_without_overtime = set(salary_data['JobTitle']) - set(jobs_with_overtime)\n",
    "df = pd.DataFrame(list(jobs_without_overtime), columns=['JobTitle'])"
   ]
  },
  {
   "cell_type": "code",
   "execution_count": 15,
   "id": "a34c8aef-8da3-464c-a2b0-71662832262a",
   "metadata": {},
   "outputs": [
    {
     "data": {
      "text/html": [
       "<div>\n",
       "<style scoped>\n",
       "    .dataframe tbody tr th:only-of-type {\n",
       "        vertical-align: middle;\n",
       "    }\n",
       "\n",
       "    .dataframe tbody tr th {\n",
       "        vertical-align: top;\n",
       "    }\n",
       "\n",
       "    .dataframe thead th {\n",
       "        text-align: right;\n",
       "    }\n",
       "</style>\n",
       "<table border=\"1\" class=\"dataframe\">\n",
       "  <thead>\n",
       "    <tr style=\"text-align: right;\">\n",
       "      <th></th>\n",
       "      <th>JobTitle</th>\n",
       "    </tr>\n",
       "  </thead>\n",
       "  <tbody>\n",
       "    <tr>\n",
       "      <th>0</th>\n",
       "      <td>STORES AND EQUIPMENT ASSISTANT SUPERVISOR</td>\n",
       "    </tr>\n",
       "    <tr>\n",
       "      <th>1</th>\n",
       "      <td>ASSISTANT TO THE DIRECTOR, PUBLIC AFFAIRS     ...</td>\n",
       "    </tr>\n",
       "    <tr>\n",
       "      <th>2</th>\n",
       "      <td>LIBRARIAN II - ASIAN ARTS</td>\n",
       "    </tr>\n",
       "    <tr>\n",
       "      <th>3</th>\n",
       "      <td>SENIOR CLAIMS INVESTIGATOR,CITY ATTORNEY'S OFFICE</td>\n",
       "    </tr>\n",
       "    <tr>\n",
       "      <th>4</th>\n",
       "      <td>PUBLIC RELATIONS ASSISTANT</td>\n",
       "    </tr>\n",
       "    <tr>\n",
       "      <th>...</th>\n",
       "      <td>...</td>\n",
       "    </tr>\n",
       "    <tr>\n",
       "      <th>940</th>\n",
       "      <td>Deputy Dir II, MTA</td>\n",
       "    </tr>\n",
       "    <tr>\n",
       "      <th>941</th>\n",
       "      <td>COURT COMPUTER APPLICATIONS PROGRAMMER</td>\n",
       "    </tr>\n",
       "    <tr>\n",
       "      <th>942</th>\n",
       "      <td>Counselor, Family Court Svc</td>\n",
       "    </tr>\n",
       "    <tr>\n",
       "      <th>943</th>\n",
       "      <td>COMMUNICATIONS DIRECTOR</td>\n",
       "    </tr>\n",
       "    <tr>\n",
       "      <th>944</th>\n",
       "      <td>Court Paralegal</td>\n",
       "    </tr>\n",
       "  </tbody>\n",
       "</table>\n",
       "<p>945 rows × 1 columns</p>\n",
       "</div>"
      ],
      "text/plain": [
       "                                              JobTitle\n",
       "0            STORES AND EQUIPMENT ASSISTANT SUPERVISOR\n",
       "1    ASSISTANT TO THE DIRECTOR, PUBLIC AFFAIRS     ...\n",
       "2                            LIBRARIAN II - ASIAN ARTS\n",
       "3    SENIOR CLAIMS INVESTIGATOR,CITY ATTORNEY'S OFFICE\n",
       "4                           PUBLIC RELATIONS ASSISTANT\n",
       "..                                                 ...\n",
       "940                                 Deputy Dir II, MTA\n",
       "941             COURT COMPUTER APPLICATIONS PROGRAMMER\n",
       "942                        Counselor, Family Court Svc\n",
       "943                            COMMUNICATIONS DIRECTOR\n",
       "944                                    Court Paralegal\n",
       "\n",
       "[945 rows x 1 columns]"
      ]
     },
     "execution_count": 15,
     "metadata": {},
     "output_type": "execute_result"
    }
   ],
   "source": [
    "df"
   ]
  },
  {
   "cell_type": "markdown",
   "id": "5bd476a1-23d7-4bf7-8241-46cc664a7856",
   "metadata": {},
   "source": [
    "### 2.7. List the years included in the dataset."
   ]
  },
  {
   "cell_type": "code",
   "execution_count": 16,
   "id": "f4c8597e-0b3b-402e-8050-987855207336",
   "metadata": {},
   "outputs": [
    {
     "data": {
      "text/plain": [
       "array([2011, 2012, 2013, 2014], dtype=int64)"
      ]
     },
     "execution_count": 16,
     "metadata": {},
     "output_type": "execute_result"
    }
   ],
   "source": [
    "salary_data['Year'].unique()"
   ]
  },
  {
   "cell_type": "markdown",
   "id": "62bcc785-0ce4-49fb-a07e-e4cc1d2f0eb0",
   "metadata": {},
   "source": [
    "### 2.8. Identify the year with the highest average `TotalPay`."
   ]
  },
  {
   "cell_type": "code",
   "execution_count": 17,
   "id": "adc5d5ee-81b0-4bf9-9e1c-1fca1df4e049",
   "metadata": {},
   "outputs": [
    {
     "name": "stdout",
     "output_type": "stream",
     "text": [
      "Year with highest avg TotalPay: (2013, 77611.44314205181)\n"
     ]
    }
   ],
   "source": [
    "avg_totalpay_by_year = salary_data.groupby('Year')['TotalPay'].mean()\n",
    "year_highest_avg_totalpay = avg_totalpay_by_year.idxmax(), avg_totalpay_by_year.max()\n",
    "print(\"Year with highest avg TotalPay:\", year_highest_avg_totalpay)"
   ]
  },
  {
   "cell_type": "markdown",
   "id": "2423819e-0493-442c-a8c5-0d0061f1c3b9",
   "metadata": {},
   "source": [
    "### 2.9. List job titles with the highest average `Benefits`."
   ]
  },
  {
   "cell_type": "code",
   "execution_count": 18,
   "id": "4b7baaff-475c-4c2b-917b-af180d8e432f",
   "metadata": {},
   "outputs": [
    {
     "name": "stdout",
     "output_type": "stream",
     "text": [
      "Jobs with highest Benefits:\n",
      " JobTitle\n",
      "Chief Investment Officer      96570.660000\n",
      "Gen Mgr, Public Trnsp Dept    82927.026667\n",
      "Chief, Fire Department        82893.643333\n",
      "Chief of Police               82548.620000\n",
      "Mayor                         78360.376667\n",
      "Name: Benefits, dtype: float64\n"
     ]
    }
   ],
   "source": [
    "avg_benefits_by_job = salary_data.groupby('JobTitle')['Benefits'].mean()\n",
    "highest_benefits_jobs = avg_benefits_by_job.nlargest(5)\n",
    "print(\"Jobs with highest Benefits:\\n\", highest_benefits_jobs)"
   ]
  },
  {
   "cell_type": "markdown",
   "id": "30e648f6-114d-4720-8879-50e15b7c96f3",
   "metadata": {},
   "source": [
    "### 2.10. Explain the role of `Benefits` in calculating `TotalPayBenefits"
   ]
  },
  {
   "cell_type": "markdown",
   "id": "d6938056-001c-46fa-8b5d-3852831964a1",
   "metadata": {},
   "source": [
    "### TotalPayBenefits waa wadarta TotalPay iyo Benefits, taasoo muujinaysa magdhowga guud ee la siiyo shaqaalaha"
   ]
  },
  {
   "cell_type": "markdown",
   "id": "b453189d-c9fd-42f2-a6db-8d8ba18c8e41",
   "metadata": {},
   "source": [
    "### 2.11. Identify employees with the highest `TotalPayBenefits"
   ]
  },
  {
   "cell_type": "code",
   "execution_count": 19,
   "id": "16f4a3b4-2823-446d-be5f-97ea84017824",
   "metadata": {},
   "outputs": [
    {
     "data": {
      "text/html": [
       "<div>\n",
       "<style scoped>\n",
       "    .dataframe tbody tr th:only-of-type {\n",
       "        vertical-align: middle;\n",
       "    }\n",
       "\n",
       "    .dataframe tbody tr th {\n",
       "        vertical-align: top;\n",
       "    }\n",
       "\n",
       "    .dataframe thead th {\n",
       "        text-align: right;\n",
       "    }\n",
       "</style>\n",
       "<table border=\"1\" class=\"dataframe\">\n",
       "  <thead>\n",
       "    <tr style=\"text-align: right;\">\n",
       "      <th></th>\n",
       "      <th>Id</th>\n",
       "      <th>EmployeeName</th>\n",
       "      <th>JobTitle</th>\n",
       "      <th>BasePay</th>\n",
       "      <th>OvertimePay</th>\n",
       "      <th>OtherPay</th>\n",
       "      <th>Benefits</th>\n",
       "      <th>TotalPay</th>\n",
       "      <th>TotalPayBenefits</th>\n",
       "      <th>Year</th>\n",
       "      <th>Notes</th>\n",
       "      <th>Agency</th>\n",
       "      <th>Status</th>\n",
       "    </tr>\n",
       "  </thead>\n",
       "  <tbody>\n",
       "    <tr>\n",
       "      <th>0</th>\n",
       "      <td>1</td>\n",
       "      <td>NATHANIEL FORD</td>\n",
       "      <td>GENERAL MANAGER-METROPOLITAN TRANSIT AUTHORITY</td>\n",
       "      <td>167411.18</td>\n",
       "      <td>0.0</td>\n",
       "      <td>400184.25</td>\n",
       "      <td>NaN</td>\n",
       "      <td>567595.43</td>\n",
       "      <td>567595.43</td>\n",
       "      <td>2011</td>\n",
       "      <td>NaN</td>\n",
       "      <td>San Francisco</td>\n",
       "      <td>NaN</td>\n",
       "    </tr>\n",
       "  </tbody>\n",
       "</table>\n",
       "</div>"
      ],
      "text/plain": [
       "   Id    EmployeeName                                        JobTitle  \\\n",
       "0   1  NATHANIEL FORD  GENERAL MANAGER-METROPOLITAN TRANSIT AUTHORITY   \n",
       "\n",
       "     BasePay  OvertimePay   OtherPay  Benefits   TotalPay  TotalPayBenefits  \\\n",
       "0  167411.18          0.0  400184.25       NaN  567595.43         567595.43   \n",
       "\n",
       "   Year  Notes         Agency  Status  \n",
       "0  2011    NaN  San Francisco     NaN  "
      ]
     },
     "execution_count": 19,
     "metadata": {},
     "output_type": "execute_result"
    }
   ],
   "source": [
    "salary_data[salary_data['TotalPayBenefits'].max() == salary_data['TotalPayBenefits']]"
   ]
  },
  {
   "cell_type": "markdown",
   "id": "bf96120d-f685-47b9-9dd9-0aad11e35830",
   "metadata": {},
   "source": [
    "### 2.12. Find any employees with the same job title but different `TotalPay`."
   ]
  },
  {
   "cell_type": "code",
   "execution_count": 20,
   "id": "d3703481-d812-4b66-8994-02b0ab0a7e17",
   "metadata": {},
   "outputs": [
    {
     "name": "stdout",
     "output_type": "stream",
     "text": [
      "Employees with same title but different TotalPay:\n",
      "              EmployeeName                                        JobTitle  \\\n",
      "0          NATHANIEL FORD  GENERAL MANAGER-METROPOLITAN TRANSIT AUTHORITY   \n",
      "1            GARY JIMENEZ                 CAPTAIN III (POLICE DEPARTMENT)   \n",
      "2          ALBERT PARDINI                 CAPTAIN III (POLICE DEPARTMENT)   \n",
      "3       CHRISTOPHER CHONG            WIRE ROPE CABLE MAINTENANCE MECHANIC   \n",
      "4         PATRICK GARDNER    DEPUTY CHIEF OF DEPARTMENT,(FIRE DEPARTMENT)   \n",
      "...                   ...                                             ...   \n",
      "148645   Carolyn A Wilson                       Human Services Technician   \n",
      "148647     Joann Anderson                     Communications Dispatcher 2   \n",
      "148648        Leon Walker                                       Custodian   \n",
      "148649      Roy I Tillery                                       Custodian   \n",
      "148653          Joe Lopez                      Counselor, Log Cabin Ranch   \n",
      "\n",
      "         TotalPay  \n",
      "0       567595.43  \n",
      "1       538909.28  \n",
      "2       335279.91  \n",
      "3       332343.61  \n",
      "4       326373.19  \n",
      "...           ...  \n",
      "148645       0.00  \n",
      "148647       0.00  \n",
      "148648       0.00  \n",
      "148649       0.00  \n",
      "148653    -618.13  \n",
      "\n",
      "[148406 rows x 3 columns]\n"
     ]
    }
   ],
   "source": [
    "duplicates = salary_data.groupby('JobTitle').filter(lambda x: x['TotalPay'].nunique() > 1)\n",
    "print(\"Employees with same title but different TotalPay:\\n\", duplicates[['EmployeeName', 'JobTitle', 'TotalPay']])"
   ]
  },
  {
   "cell_type": "markdown",
   "id": "90188e12-fb18-4572-b06c-35105627dd69",
   "metadata": {},
   "source": [
    "### 2.13. Determine the number of unique job titles in the dataset."
   ]
  },
  {
   "cell_type": "code",
   "execution_count": 21,
   "id": "3e1d7943-c663-468e-919f-af6bcf735983",
   "metadata": {},
   "outputs": [
    {
     "data": {
      "text/plain": [
       "2159"
      ]
     },
     "execution_count": 21,
     "metadata": {},
     "output_type": "execute_result"
    }
   ],
   "source": [
    "salary_data['JobTitle'].nunique()"
   ]
  },
  {
   "cell_type": "markdown",
   "id": "4dd175d4-b555-4a3e-8ddf-a1016dcb35ae",
   "metadata": {},
   "source": [
    "### 2.14. Define the roles of `TotalPay` and `TotalPayBenefits` in understanding employee compensation."
   ]
  },
  {
   "cell_type": "markdown",
   "id": "03b5606f-5b7e-4187-8c9b-deb93f75b4aa",
   "metadata": {},
   "source": [
    "### TotalPay waxay muujinaysaa mushaarka aasaasiga ah oo lagu daray dakhliga dheeraadka ah sida saacadaha dheeraadka ah (overtime). TotalPayBenefits waxay ku dartaa faa'iidooyinka TotalPay, taasoo bixisa aragti dhammaystiran oo ku saabsan magdhowga guud."
   ]
  }
 ],
 "metadata": {
  "kernelspec": {
   "display_name": "Python 3 (ipykernel)",
   "language": "python",
   "name": "python3"
  },
  "language_info": {
   "codemirror_mode": {
    "name": "ipython",
    "version": 3
   },
   "file_extension": ".py",
   "mimetype": "text/x-python",
   "name": "python",
   "nbconvert_exporter": "python",
   "pygments_lexer": "ipython3",
   "version": "3.12.4"
  }
 },
 "nbformat": 4,
 "nbformat_minor": 5
}
