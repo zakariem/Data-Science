{
 "cells": [
  {
   "cell_type": "code",
   "execution_count": 1,
   "id": "2a6f81b3-d29e-46b3-bfad-9afa57cf839e",
   "metadata": {},
   "outputs": [],
   "source": [
    "import numpy as np\n",
    "import statistics as stats"
   ]
  },
  {
   "cell_type": "code",
   "execution_count": 7,
   "id": "478ff3ca-72f9-4787-bd6d-bab05704677f",
   "metadata": {},
   "outputs": [],
   "source": [
    "arr = np.array([18, 25, 12, 10, 30, 22, 15, 18, 20, 16, 19, 25, 21, 11, 14, 17, 28, 26, 23, 19])"
   ]
  },
  {
   "cell_type": "markdown",
   "id": "85ef9979-30e5-4326-999c-58693a596d11",
   "metadata": {},
   "source": [
    "# Celceliska (Mean)\n",
    "### Celceliska wuxuu tilmaamayaa in bukaanku celcelis ahaan bogsadaan muddo ku dhow 19.45 maalmood."
   ]
  },
  {
   "cell_type": "code",
   "execution_count": 9,
   "id": "417bdc6c-9edf-47f1-a2d5-1cf4b1d62dda",
   "metadata": {},
   "outputs": [
    {
     "data": {
      "text/plain": [
       "19.45"
      ]
     },
     "execution_count": 9,
     "metadata": {},
     "output_type": "execute_result"
    }
   ],
   "source": [
    "np.mean(arr)"
   ]
  },
  {
   "cell_type": "markdown",
   "id": "0692af3d-174b-45af-ac7c-a1007c15bf96",
   "metadata": {},
   "source": [
    "# Qiimaha Dhexe (Median)\n",
    "### Median-ka wuxuu muujinayaa in kala badh bukaannada ay bogsadaan waqti ka yar ama u dhiganta 19 maalmood. Waxa uu aad ugu dhow yahay celceliska, taasoo muujinaysa in xogtu ay ka midaysan tahay (iskudhiganta tahay)."
   ]
  },
  {
   "cell_type": "code",
   "execution_count": 10,
   "id": "d5128060-83ce-4279-b13d-cadb6c6ed0ea",
   "metadata": {},
   "outputs": [
    {
     "data": {
      "text/plain": [
       "19.0"
      ]
     },
     "execution_count": 10,
     "metadata": {},
     "output_type": "execute_result"
    }
   ],
   "source": [
    "np.median(arr)"
   ]
  },
  {
   "cell_type": "markdown",
   "id": "ac01c9aa-d9f0-4c99-a406-1c502d663a19",
   "metadata": {},
   "source": [
    "# Qiimaha Soo Noqnoqda (Mode)\n",
    "### 18 waa muddada ugu badan ee bukaanada bogsadaan."
   ]
  },
  {
   "cell_type": "code",
   "execution_count": 5,
   "id": "57ffbe64-e2be-4355-8659-140fc2f3b08c",
   "metadata": {},
   "outputs": [
    {
     "data": {
      "text/plain": [
       "18"
      ]
     },
     "execution_count": 5,
     "metadata": {},
     "output_type": "execute_result"
    }
   ],
   "source": [
    "stats.mode(arr)"
   ]
  },
  {
   "cell_type": "markdown",
   "id": "1e49fbbc-96e4-4331-a2da-aab9a90d5b03",
   "metadata": {},
   "source": [
    "# Farqiga U Dhexeeya (Range)\n",
    "## Farqiga bogsashada waa 20 maalmood.\n",
    "### Waxaa jira farqi weyn oo u dhexeeya waqtiyada bogsashada ee ugu dheer (30 maalmood) iyo ugu gaaban (10 maalmood), taasoo tilmaamaysa kala duwanaansho weyn."
   ]
  },
  {
   "cell_type": "code",
   "execution_count": 11,
   "id": "2629b70a-5d57-48fb-9bde-486cd2e2f266",
   "metadata": {},
   "outputs": [
    {
     "data": {
      "text/plain": [
       "20"
      ]
     },
     "execution_count": 11,
     "metadata": {},
     "output_type": "execute_result"
    }
   ],
   "source": [
    "arr.max() - arr.min()"
   ]
  },
  {
   "cell_type": "markdown",
   "id": "bb0f3c69-ccd9-4caf-84aa-4d25bb3b3f77",
   "metadata": {},
   "source": [
    "# Farqiga iyo Celceliska Leexashada (Variance iyo Standard Deviation)\n",
    "## Farqiga waa 31.52, halka celceliska leexashaduna uu yahay 5.61 maalmood.\n",
    "### Tani waxay muujinaysaa in bogsashada bukaannadu ay aad uga duwan tahay celceliska, iyadoo leexashada celcelisku tahay qiyaastii 5.61 maalmood."
   ]
  },
  {
   "cell_type": "code",
   "execution_count": 16,
   "id": "117ccf8d-71ac-43d6-a955-2613ba8243dc",
   "metadata": {},
   "outputs": [
    {
     "name": "stdout",
     "output_type": "stream",
     "text": [
      "Variance: 31.523684210526312\n",
      "Standard Deviation: 5.614595640874445\n"
     ]
    }
   ],
   "source": [
    "print(f'Variance: {np.var(arr, ddof=1)}')\n",
    "print(f'Standard Deviation: {np.std(arr, ddof=1)}')"
   ]
  },
  {
   "cell_type": "markdown",
   "id": "1f520af3-619e-4ddd-bfe6-9db33511d36d",
   "metadata": {},
   "source": [
    "# Boqolleyda (Percentiles):\n",
    "### 25% bukaannadu waxay bogsadaan muddo ka yar 15.75 maalmood, halka 75% ay ka bogsadaan muddo ka yar 23.5 maalmood."
   ]
  },
  {
   "cell_type": "code",
   "execution_count": 18,
   "id": "c1283b91-7a79-442b-ad19-d0cb50723e47",
   "metadata": {},
   "outputs": [
    {
     "name": "stdout",
     "output_type": "stream",
     "text": [
      "25th Percentile: 15.75\n",
      "50th Percentile (Median): 19.0\n",
      "75th Percentile: 23.5\n"
     ]
    }
   ],
   "source": [
    "print(f'25th Percentile: {np.percentile(arr, 25)}')\n",
    "print(f'50th Percentile (Median): {np.percentile(arr, 50)}')\n",
    "print(f'75th Percentile: {np.percentile(arr, 75)}')"
   ]
  },
  {
   "cell_type": "markdown",
   "id": "3810e3ff-7d59-427f-adf0-5f63380bc60b",
   "metadata": {},
   "source": [
    "# Kala Fogaanta Boqolleyada (IQR):\n",
    "### Kala fogaanta boqolleyada waxay tilmaamaysaa in kala duwanaanshaha waqtiga bogsashada ee ku dhex jira boqolkiiba 50 ee dhexe yahay 7.75 maalmood. "
   ]
  },
  {
   "cell_type": "code",
   "execution_count": 20,
   "id": "6cfba7ef-ed76-4c36-a7d7-eedcd41afaca",
   "metadata": {},
   "outputs": [
    {
     "data": {
      "text/plain": [
       "7.75"
      ]
     },
     "execution_count": 20,
     "metadata": {},
     "output_type": "execute_result"
    }
   ],
   "source": [
    "np.percentile(arr, 75) - np.percentile(arr, 25)"
   ]
  },
  {
   "cell_type": "code",
   "execution_count": null,
   "id": "bed18ccb-4359-4498-b390-47bb3471e550",
   "metadata": {},
   "outputs": [],
   "source": []
  }
 ],
 "metadata": {
  "kernelspec": {
   "display_name": "Python 3 (ipykernel)",
   "language": "python",
   "name": "python3"
  },
  "language_info": {
   "codemirror_mode": {
    "name": "ipython",
    "version": 3
   },
   "file_extension": ".py",
   "mimetype": "text/x-python",
   "name": "python",
   "nbconvert_exporter": "python",
   "pygments_lexer": "ipython3",
   "version": "3.12.4"
  }
 },
 "nbformat": 4,
 "nbformat_minor": 5
}
