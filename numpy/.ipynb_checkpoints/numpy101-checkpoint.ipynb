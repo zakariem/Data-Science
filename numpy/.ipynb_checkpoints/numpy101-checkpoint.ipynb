{
 "cells": [
  {
   "cell_type": "code",
   "execution_count": 1,
   "id": "0c690e16-e79f-4c03-a5bb-c83279666d90",
   "metadata": {},
   "outputs": [],
   "source": [
    "import numpy as np\n",
    "import statistics as stat"
   ]
  },
  {
   "cell_type": "code",
   "execution_count": 2,
   "id": "526dc359-90dc-4e15-9fb0-acee7e7492dc",
   "metadata": {},
   "outputs": [
    {
     "data": {
      "text/plain": [
       "array([[0., 0., 0.],\n",
       "       [0., 0., 0.],\n",
       "       [0., 0., 0.]])"
      ]
     },
     "execution_count": 2,
     "metadata": {},
     "output_type": "execute_result"
    }
   ],
   "source": [
    "np.zeros([3,3])"
   ]
  },
  {
   "cell_type": "code",
   "execution_count": 3,
   "id": "d8da9a23-c69c-4d75-a7fd-7e60507c672a",
   "metadata": {},
   "outputs": [],
   "source": [
    "salary = np.array([10,11,11,15,15,19,20,21,21,22,22,24,25])"
   ]
  },
  {
   "cell_type": "code",
   "execution_count": 4,
   "id": "6efca5fd-cefb-4b50-9dbe-0dd49d696dce",
   "metadata": {},
   "outputs": [],
   "source": [
    "mean = np.mean(salary)"
   ]
  },
  {
   "cell_type": "code",
   "execution_count": 5,
   "id": "d627c9b8-28c7-4c86-a8b0-2c3f76e68c26",
   "metadata": {},
   "outputs": [
    {
     "data": {
      "text/plain": [
       "18.923076923076923"
      ]
     },
     "execution_count": 5,
     "metadata": {},
     "output_type": "execute_result"
    }
   ],
   "source": [
    "mean"
   ]
  },
  {
   "cell_type": "code",
   "execution_count": 6,
   "id": "06bdbccf-3667-4f5b-996f-2b844658e268",
   "metadata": {},
   "outputs": [
    {
     "data": {
      "text/plain": [
       "20.0"
      ]
     },
     "execution_count": 6,
     "metadata": {},
     "output_type": "execute_result"
    }
   ],
   "source": [
    "median = np.median(salary)\n",
    "median"
   ]
  },
  {
   "cell_type": "code",
   "execution_count": 7,
   "id": "4df7c2d2-8c99-4c9d-b981-0acfb2729d07",
   "metadata": {},
   "outputs": [
    {
     "data": {
      "text/plain": [
       "11"
      ]
     },
     "execution_count": 7,
     "metadata": {},
     "output_type": "execute_result"
    }
   ],
   "source": [
    "mod = stat.mode(salary)\n",
    "mod"
   ]
  },
  {
   "cell_type": "code",
   "execution_count": null,
   "id": "7e385ef7-6bc9-410c-a56b-11f45e56dd09",
   "metadata": {},
   "outputs": [],
   "source": []
  }
 ],
 "metadata": {
  "kernelspec": {
   "display_name": "Python 3 (ipykernel)",
   "language": "python",
   "name": "python3"
  },
  "language_info": {
   "codemirror_mode": {
    "name": "ipython",
    "version": 3
   },
   "file_extension": ".py",
   "mimetype": "text/x-python",
   "name": "python",
   "nbconvert_exporter": "python",
   "pygments_lexer": "ipython3",
   "version": "3.12.4"
  }
 },
 "nbformat": 4,
 "nbformat_minor": 5
}
